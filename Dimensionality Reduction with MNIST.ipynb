{
 "cells": [
  {
   "cell_type": "markdown",
   "metadata": {},
   "source": [
    "# Dimensionality Reduction with MNIST\n",
    "\n",
    "Using the MNIST dataset to test out dimensionality reduction to validate improvement in speed times.\n"
   ]
  },
  {
   "cell_type": "code",
   "execution_count": 1,
   "metadata": {
    "collapsed": true
   },
   "outputs": [],
   "source": [
    "import numpy as np\n",
    "import pandas as pd\n",
    "\n",
    "np.random.seed(123)\n",
    "\n",
    "%matplotlib inline\n",
    "import matplotlib\n",
    "import matplotlib.pyplot as plt\n",
    "plt.rcParams['axes.labelsize'] = 14\n",
    "plt.rcParams['xtick.labelsize'] = 12\n",
    "plt.rcParams['ytick.labelsize'] = 12\n"
   ]
  },
  {
   "cell_type": "code",
   "execution_count": 2,
   "metadata": {},
   "outputs": [
    {
     "data": {
      "text/plain": [
       "{'COL_NAMES': ['label', 'data'],\n",
       " 'DESCR': 'mldata.org dataset: mnist-original',\n",
       " 'data': array([[0, 0, 0, ..., 0, 0, 0],\n",
       "        [0, 0, 0, ..., 0, 0, 0],\n",
       "        [0, 0, 0, ..., 0, 0, 0],\n",
       "        ..., \n",
       "        [0, 0, 0, ..., 0, 0, 0],\n",
       "        [0, 0, 0, ..., 0, 0, 0],\n",
       "        [0, 0, 0, ..., 0, 0, 0]], dtype=uint8),\n",
       " 'target': array([ 0.,  0.,  0., ...,  9.,  9.,  9.])}"
      ]
     },
     "execution_count": 2,
     "metadata": {},
     "output_type": "execute_result"
    }
   ],
   "source": [
    "from sklearn.datasets import fetch_mldata\n",
    "mnist = fetch_mldata('MNIST original')\n",
    "mnist"
   ]
  },
  {
   "cell_type": "markdown",
   "metadata": {},
   "source": [
    "## Splitting into training & testing"
   ]
  },
  {
   "cell_type": "code",
   "execution_count": 3,
   "metadata": {
    "collapsed": true
   },
   "outputs": [],
   "source": [
    "X, y = mnist[\"data\"], mnist[\"target\"]\n",
    "X.shape\n",
    "\n",
    "X_train, X_test, y_train, y_test = X[:60000], X[60000:], y[:60000], y[60000:]\n",
    "\n",
    "shuffle_index = np.random.permutation(60000)\n",
    "X_train, y_train = X_train[shuffle_index], y_train[shuffle_index]\n",
    "\n",
    "y_train_5 = (y_train == 5)\n",
    "y_test_5 = (y_test == 5)"
   ]
  },
  {
   "cell_type": "markdown",
   "metadata": {},
   "source": [
    "## Training a Random Forest Classifier"
   ]
  },
  {
   "cell_type": "code",
   "execution_count": 4,
   "metadata": {},
   "outputs": [
    {
     "name": "stdout",
     "output_type": "stream",
     "text": [
      "RFC Best Score: 0.933033333333\n",
      "Time taken to run: 589.342932496239\n"
     ]
    }
   ],
   "source": [
    "from sklearn.ensemble import RandomForestClassifier\n",
    "from sklearn.model_selection import RandomizedSearchCV\n",
    "from scipy.stats import randint\n",
    "import timeit\n",
    "\n",
    "param_distribs = {'n_estimators': randint(10,1000), 'max_depth': randint(1, 10), \n",
    "                  'min_samples_split': randint(2, 10), 'min_samples_leaf': randint(1,10),\n",
    "                  'max_leaf_nodes' : randint(2,10)}\n",
    "\n",
    "rnd_search_rfc = RandomizedSearchCV(RandomForestClassifier(), param_distribs, scoring ='accuracy', n_iter=10, cv=3, n_jobs = -1)\n",
    "\n",
    "start_rfc = timeit.default_timer()\n",
    "rnd_search_rfc.fit(X_train, y_train_5)\n",
    "stop_rfc = timeit.default_timer()\n",
    "print(\"RFC Best Score:\", rnd_search_rfc.best_score_)\n",
    "print(\"Time taken to run:\", stop_rfc - start_rfc) "
   ]
  },
  {
   "cell_type": "code",
   "execution_count": 6,
   "metadata": {},
   "outputs": [
    {
     "name": "stdout",
     "output_type": "stream",
     "text": [
      "Random Forest Classifier Test Set Accuracy: 0.9365\n"
     ]
    }
   ],
   "source": [
    "from sklearn.metrics import accuracy_score\n",
    "y_pred_rfc = rnd_search_rfc.predict(X_test)\n",
    "rfc_results = accuracy_score(y_test_5, y_pred_rfc)\n",
    "print(\"Random Forest Classifier Test Set Accuracy:\", rfc_results)"
   ]
  },
  {
   "cell_type": "markdown",
   "metadata": {
    "collapsed": true
   },
   "source": [
    "## PCA and training random forest classifier on reduced set "
   ]
  },
  {
   "cell_type": "code",
   "execution_count": 7,
   "metadata": {
    "collapsed": true
   },
   "outputs": [],
   "source": [
    "from sklearn.decomposition import PCA\n",
    "pca = PCA(n_components=0.95)\n",
    "X_reduced = pca.fit_transform(X_train)\n",
    "X_test_reduced = pca.transform(X_test)"
   ]
  },
  {
   "cell_type": "code",
   "execution_count": 8,
   "metadata": {},
   "outputs": [
    {
     "name": "stdout",
     "output_type": "stream",
     "text": [
      "RFC Reduced Best Score: 0.90965\n",
      "Time taken to run:: 498.4436029112504\n"
     ]
    }
   ],
   "source": [
    "param_distribs = {'n_estimators': randint(10,1000), 'max_depth': randint(1, 10), \n",
    "                  'min_samples_split': randint(2, 10), 'min_samples_leaf': randint(1,10),\n",
    "                  'max_leaf_nodes' : randint(2,10)}\n",
    "\n",
    "rnd_search_rfc_reduced = RandomizedSearchCV(RandomForestClassifier(), param_distribs, scoring ='accuracy', \n",
    "                                            n_iter=10, cv=3, n_jobs = -1)\n",
    "start_rfc_reduced = timeit.default_timer()\n",
    "rnd_search_rfc_reduced.fit(X_reduced, y_train_5)\n",
    "stop_rfc_reduced = timeit.default_timer()\n",
    "print(\"RFC Reduced Best Score:\", rnd_search_rfc_reduced.best_score_)\n",
    "print(\"Time taken to run:\", stop_rfc_reduced - start_rfc_reduced) "
   ]
  },
  {
   "cell_type": "code",
   "execution_count": 9,
   "metadata": {},
   "outputs": [
    {
     "name": "stdout",
     "output_type": "stream",
     "text": [
      "Random Forest Classifier Reduced Test Set Accuracy: 0.9108\n"
     ]
    }
   ],
   "source": [
    "y_pred_rfc_red = rnd_search_rfc_reduced.predict(X_test_reduced)\n",
    "rfc_reduced_results = accuracy_score(y_test_5, y_pred_rfc_red)\n",
    "print(\"Random Forest Classifier Reduced Test Set Accuracy:\", rfc_reduced_results)"
   ]
  },
  {
   "cell_type": "markdown",
   "metadata": {},
   "source": [
    "### Comparison of RFC on regular & reduced set"
   ]
  },
  {
   "cell_type": "markdown",
   "metadata": {},
   "source": [
    "The time it took to perform the first classifier on the original number of sets  was approx. 10 mins and it found an esitmator with an accuracy of 0.93. When performing on the test set it had an accuracy of 0.94.\n",
    "\n",
    "The time it took to perform the second reduced classifier was just over 8 minutes and it found an estimator with an accuracy of 0.91. When performing on the test set it had an accuracy of 0.91, which was a 2% decrease comapred to the original model.\n",
    "\n",
    "The time saving wasnt very significant, although it is none the less faster. At an estimation of 2% accuracy loss it would be worth it based on the standalone fact it is only a minimal loss, but much more worth it if the time savings were more siginificant."
   ]
  },
  {
   "cell_type": "markdown",
   "metadata": {},
   "source": [
    "## Using t-SNE"
   ]
  },
  {
   "cell_type": "code",
   "execution_count": 8,
   "metadata": {},
   "outputs": [
    {
     "name": "stdout",
     "output_type": "stream",
     "text": [
      "Time to run: 8816.29653494836\n"
     ]
    }
   ],
   "source": [
    "from sklearn.manifold import TSNE\n",
    "tsne = TSNE(n_components=2, n_iter = 250, random_state=42)\n",
    "start = timeit.default_timer()\n",
    "X_reduced_tsne = tsne.fit_transform(X)\n",
    "stop = timeit.default_timer()\n",
    "print(\"Time to run:\", stop - start) "
   ]
  },
  {
   "cell_type": "markdown",
   "metadata": {},
   "source": [
    "Reduced all ffeatures to 2 dimensions, quite a long time to run considering the size of the dataset"
   ]
  },
  {
   "cell_type": "code",
   "execution_count": 10,
   "metadata": {},
   "outputs": [
    {
     "data": {
      "text/plain": [
       "(70000, 2)"
      ]
     },
     "execution_count": 10,
     "metadata": {},
     "output_type": "execute_result"
    }
   ],
   "source": [
    "X_reduced_tsne.shape"
   ]
  },
  {
   "cell_type": "markdown",
   "metadata": {},
   "source": [
    "I created the code to try LLE, while running my computer constantly freezed and crashes.. was a first for this machine.. sorry for the lack of results here"
   ]
  },
  {
   "cell_type": "code",
   "execution_count": null,
   "metadata": {
    "collapsed": true
   },
   "outputs": [],
   "source": [
    "from sklearn.manifold import LocallyLinearEmbedding\n",
    "lle = LocallyLinearEmbedding(n_components=2, n_neighbors=10, random_state=42, n_jobs = -1)\n",
    "\n",
    "start_lle = timeit.default_timer()\n",
    "X_reduced_lle = lle.fit_transform(X)\n",
    "stop_lle = timeit.default_timer()\n",
    "print(\"Time to run:\", X_reduced_lle - start_lle) "
   ]
  }
 ],
 "metadata": {
  "anaconda-cloud": {},
  "kernelspec": {
   "display_name": "Python 3",
   "language": "python",
   "name": "python3"
  },
  "language_info": {
   "codemirror_mode": {
    "name": "ipython",
    "version": 3
   },
   "file_extension": ".py",
   "mimetype": "text/x-python",
   "name": "python",
   "nbconvert_exporter": "python",
   "pygments_lexer": "ipython3",
   "version": "3.6.3"
  }
 },
 "nbformat": 4,
 "nbformat_minor": 2
}
