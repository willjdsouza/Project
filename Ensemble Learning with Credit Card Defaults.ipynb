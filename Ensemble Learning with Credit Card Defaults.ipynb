{
 "cells": [
  {
   "cell_type": "markdown",
   "metadata": {},
   "source": [
    "## Ensemble Learning\n",
    "\n",
    "#### Building a classification model with the default of credit card clients data. Info On Dataset: https://archive.ics.uci.edu/ml/datasets/default+of+credit+card+clients\n",
    "\n",
    "1) First tuning a decision tree classifier tuning one parameter at a time using gridsearch, then running all parameters using a randomized search.\n",
    "\n",
    "2) Next, tuning different classifiers which include:\n",
    "Random forest classfier\n",
    "Adaboost Tree classifier\n",
    "Extra trees classifier\n",
    "Gradient Boosted Tree classifier\n",
    "Logistic Regression\n",
    "\n",
    "3) Creating a voting classifier\n",
    "\n",
    "4) Analyzing and comparing the results"
   ]
  },
  {
   "cell_type": "code",
   "execution_count": 1,
   "metadata": {
    "collapsed": true
   },
   "outputs": [],
   "source": [
    "import numpy as np\n",
    "import pandas as pd\n",
    "\n",
    "#Making this notebook's output stable across runs\n",
    "np.random.seed(123)\n",
    "\n",
    "# plot nice figures\n",
    "%matplotlib inline\n",
    "import matplotlib\n",
    "import matplotlib.pyplot as plt\n",
    "plt.rcParams['axes.labelsize'] = 14\n",
    "plt.rcParams['xtick.labelsize'] = 12\n",
    "plt.rcParams['ytick.labelsize'] = 12\n"
   ]
  },
  {
   "cell_type": "code",
   "execution_count": 2,
   "metadata": {
    "collapsed": true
   },
   "outputs": [],
   "source": [
    "from sklearn.base import BaseEstimator, TransformerMixin\n",
    "from sklearn.utils import check_array\n",
    "from sklearn.preprocessing import LabelEncoder\n",
    "from scipy import sparse\n",
    "\n",
    "class CategoricalEncoder(BaseEstimator, TransformerMixin):\n",
    "    def __init__(self, encoding='onehot', categories='auto', dtype=np.float64,\n",
    "                 handle_unknown='error'):\n",
    "        self.encoding = encoding\n",
    "        self.categories = categories\n",
    "        self.dtype = dtype\n",
    "        self.handle_unknown = handle_unknown\n",
    "\n",
    "    def fit(self, X, y=None):\n",
    "        if self.encoding not in ['onehot', 'onehot-dense', 'ordinal']:\n",
    "            template = (\"encoding should be either 'onehot', 'onehot-dense' \"\n",
    "                        \"or 'ordinal', got %s\")\n",
    "            raise ValueError(template % self.handle_unknown)\n",
    "\n",
    "        if self.handle_unknown not in ['error', 'ignore']:\n",
    "            template = (\"handle_unknown should be either 'error' or \"\n",
    "                        \"'ignore', got %s\")\n",
    "            raise ValueError(template % self.handle_unknown)\n",
    "\n",
    "        if self.encoding == 'ordinal' and self.handle_unknown == 'ignore':\n",
    "            raise ValueError(\"handle_unknown='ignore' is not supported for\"\n",
    "                             \" encoding='ordinal'\")\n",
    "\n",
    "        X = check_array(X, dtype=np.object, accept_sparse='csc', copy=True)\n",
    "        n_samples, n_features = X.shape\n",
    "\n",
    "        self._label_encoders_ = [LabelEncoder() for _ in range(n_features)]\n",
    "\n",
    "        for i in range(n_features):\n",
    "            le = self._label_encoders_[i]\n",
    "            Xi = X[:, i]\n",
    "            if self.categories == 'auto':\n",
    "                le.fit(Xi)\n",
    "            else:\n",
    "                valid_mask = np.in1d(Xi, self.categories[i])\n",
    "                if not np.all(valid_mask):\n",
    "                    if self.handle_unknown == 'error':\n",
    "                        diff = np.unique(Xi[~valid_mask])\n",
    "                        msg = (\"Found unknown categories {0} in column {1}\"\n",
    "                               \" during fit\".format(diff, i))\n",
    "                        raise ValueError(msg)\n",
    "                le.classes_ = np.array(np.sort(self.categories[i]))\n",
    "\n",
    "        self.categories_ = [le.classes_ for le in self._label_encoders_]\n",
    "\n",
    "        return self\n",
    "\n",
    "    def transform(self, X):\n",
    "        X = check_array(X, accept_sparse='csc', dtype=np.object, copy=True)\n",
    "        n_samples, n_features = X.shape\n",
    "        X_int = np.zeros_like(X, dtype=np.int)\n",
    "        X_mask = np.ones_like(X, dtype=np.bool)\n",
    "\n",
    "        for i in range(n_features):\n",
    "            valid_mask = np.in1d(X[:, i], self.categories_[i])\n",
    "\n",
    "            if not np.all(valid_mask):\n",
    "                if self.handle_unknown == 'error':\n",
    "                    diff = np.unique(X[~valid_mask, i])\n",
    "                    msg = (\"Found unknown categories {0} in column {1}\"\n",
    "                           \" during transform\".format(diff, i))\n",
    "                    raise ValueError(msg)\n",
    "                else:\n",
    "                    X_mask[:, i] = valid_mask\n",
    "                    X[:, i][~valid_mask] = self.categories_[i][0]\n",
    "            X_int[:, i] = self._label_encoders_[i].transform(X[:, i])\n",
    "\n",
    "        if self.encoding == 'ordinal':\n",
    "            return X_int.astype(self.dtype, copy=False)\n",
    "\n",
    "        mask = X_mask.ravel()\n",
    "        n_values = [cats.shape[0] for cats in self.categories_]\n",
    "        n_values = np.array([0] + n_values)\n",
    "        indices = np.cumsum(n_values)\n",
    "\n",
    "        column_indices = (X_int + indices[:-1]).ravel()[mask]\n",
    "        row_indices = np.repeat(np.arange(n_samples, dtype=np.int32),\n",
    "                                n_features)[mask]\n",
    "        data = np.ones(n_samples * n_features)[mask]\n",
    "\n",
    "        out = sparse.csc_matrix((data, (row_indices, column_indices)),\n",
    "                                shape=(n_samples, indices[-1]),\n",
    "                                dtype=self.dtype).tocsr()\n",
    "        if self.encoding == 'onehot-dense':\n",
    "            return out.toarray()\n",
    "        else:\n",
    "            return out"
   ]
  },
  {
   "cell_type": "markdown",
   "metadata": {},
   "source": [
    "## Preparing Data"
   ]
  },
  {
   "cell_type": "code",
   "execution_count": 3,
   "metadata": {
    "collapsed": true
   },
   "outputs": [],
   "source": [
    "df = pd.read_excel(\"C:/Users/willjdsouza/Desktop/github/default of credit card clients.xls\", \n",
    "                   sheet = 0, skiprows= 1, header = 0)"
   ]
  },
  {
   "cell_type": "code",
   "execution_count": 4,
   "metadata": {
    "collapsed": true
   },
   "outputs": [],
   "source": [
    "#splitting data into train and test\n",
    "\n",
    "from sklearn.model_selection import train_test_split\n",
    "X = df[['LIMIT_BAL','SEX', 'EDUCATION', 'MARRIAGE', 'AGE','PAY_0','PAY_2','PAY_3','PAY_4','PAY_5','PAY_6','BILL_AMT1', 'BILL_AMT2', 'BILL_AMT3', 'BILL_AMT4', 'BILL_AMT5', 'BILL_AMT6', 'PAY_AMT1',\n",
    "        'PAY_AMT2', 'PAY_AMT3', 'PAY_AMT4', 'PAY_AMT5', 'PAY_AMT6']]\n",
    "y = df['default payment next month']\n",
    "X_train, X_test, y_train, y_test = train_test_split(X, y, test_size= 0.15, random_state=42)"
   ]
  },
  {
   "cell_type": "code",
   "execution_count": 6,
   "metadata": {
    "collapsed": true
   },
   "outputs": [],
   "source": [
    "# Setting target value == 1\n",
    "\n",
    "y_train_1 = (y_train == 1)\n",
    "y_test_1 = (y_test == 1)"
   ]
  },
  {
   "cell_type": "code",
   "execution_count": 7,
   "metadata": {},
   "outputs": [
    {
     "name": "stderr",
     "output_type": "stream",
     "text": [
      "C:\\Users\\willjdsouza\\Anaconda3\\lib\\site-packages\\sklearn\\utils\\validation.py:475: DataConversionWarning: Data with input dtype int64 was converted to float64 by StandardScaler.\n",
      "  warnings.warn(msg, DataConversionWarning)\n"
     ]
    }
   ],
   "source": [
    "# pipeline for data \n",
    "\n",
    "x_train_num = X_train[['LIMIT_BAL', 'AGE','BILL_AMT1', 'BILL_AMT2', 'BILL_AMT3', 'BILL_AMT4', 'BILL_AMT5', 'BILL_AMT6', 'PAY_AMT1',\n",
    "        'PAY_AMT2', 'PAY_AMT3', 'PAY_AMT4', 'PAY_AMT5', 'PAY_AMT5']]\n",
    "\n",
    "cat_attribs = X_train[['SEX', 'EDUCATION', 'MARRIAGE', 'AGE','PAY_0','PAY_2','PAY_3','PAY_4','PAY_5','PAY_6']]\n",
    "\n",
    "class DataFrameSelector(BaseEstimator, TransformerMixin):\n",
    "    def __init__(self, attribute_names):\n",
    "        self.attribute_names = attribute_names\n",
    "    def fit(self, X, y=None):\n",
    "        return self\n",
    "    def transform(self, X):\n",
    "        return X[self.attribute_names].values\n",
    "    \n",
    "from sklearn.pipeline import Pipeline\n",
    "from sklearn.preprocessing import StandardScaler\n",
    "from sklearn.pipeline import FeatureUnion\n",
    "\n",
    "num_attribs = list(x_train_num)\n",
    "cat_attribs = list(cat_attribs)\n",
    "num_pipeline = Pipeline([\n",
    "        ('selector', DataFrameSelector(num_attribs)),\n",
    "        ('std_scaler', StandardScaler()),\n",
    "    ])\n",
    "\n",
    "cat_pipeline = Pipeline([\n",
    "        ('selector', DataFrameSelector(cat_attribs)),\n",
    "        ('cat_encoder', CategoricalEncoder(encoding=\"onehot-dense\")),\n",
    "    ]) \n",
    "\n",
    "full_pipeline = FeatureUnion(transformer_list=[\n",
    "        (\"num_pipeline\", num_pipeline),\n",
    "        (\"cat_pipeline\", cat_pipeline),\n",
    "])\n",
    "credit_prepared = full_pipeline.fit_transform(X_train)"
   ]
  },
  {
   "cell_type": "markdown",
   "metadata": {},
   "source": [
    "## Tuning Decision Tree One Parameter at a Time\n"
   ]
  },
  {
   "cell_type": "code",
   "execution_count": 8,
   "metadata": {},
   "outputs": [
    {
     "name": "stdout",
     "output_type": "stream",
     "text": [
      "{'criterion': 'gini'} 0.392033036862\n",
      "{'criterion': 'entropy'} 0.403618063874\n"
     ]
    },
    {
     "data": {
      "image/png": "[encoded data removed]",
      "text/plain": [
       "<matplotlib.figure.Figure at 0x153c35777f0>"
      ]
     },
     "metadata": {},
     "output_type": "display_data"
    }
   ],
   "source": [
    "from sklearn.tree import DecisionTreeClassifier\n",
    "from sklearn.model_selection import GridSearchCV\n",
    "\n",
    "param_grid = [\n",
    "    {'criterion': ['gini', 'entropy']}\n",
    "  ]\n",
    "\n",
    "dtc = DecisionTreeClassifier()\n",
    "grid_search = GridSearchCV(dtc, param_grid,\n",
    "scoring='precision')\n",
    "grid_search.fit(credit_prepared, y_train_1)\n",
    "\n",
    "cvres = grid_search.cv_results_\n",
    "for mean_score, params in zip(cvres[\"mean_test_score\"], cvres[\"params\"]):\n",
    "    print(params, mean_score)\n",
    "    \n",
    "for mean_score, params in zip(cvres[\"mean_test_score\"], cvres[\"params\"]):\n",
    "    plt.plot(params, mean_score, 'bo')"
   ]
  },
  {
   "cell_type": "markdown",
   "metadata": {},
   "source": [
    "### Max Depth"
   ]
  },
  {
   "cell_type": "code",
   "execution_count": 9,
   "metadata": {},
   "outputs": [
    {
     "name": "stdout",
     "output_type": "stream",
     "text": [
      "{'max_depth': None} 0.391913138101\n",
      "{'max_depth': 1} 0.69239906206\n",
      "{'max_depth': 3} 0.70666928044\n",
      "{'max_depth': 5} 0.687100333241\n",
      "{'max_depth': 7} 0.657351137603\n",
      "{'max_depth': 10} 0.610966536966\n"
     ]
    },
    {
     "data": {
      "image/png": "[encoded data removed]",
      "text/plain": [
       "<matplotlib.figure.Figure at 0x153c6587b38>"
      ]
     },
     "metadata": {},
     "output_type": "display_data"
    }
   ],
   "source": [
    "param_grid = [\n",
    "    {'max_depth': [None, 1, 3, 5, 7, 10]}\n",
    "  ]\n",
    "\n",
    "\n",
    "grid_search = GridSearchCV(dtc, param_grid,\n",
    "scoring='precision')\n",
    "grid_search.fit(credit_prepared, y_train_1)\n",
    "\n",
    "cvres = grid_search.cv_results_\n",
    "for mean_score, params in zip(cvres[\"mean_test_score\"], cvres[\"params\"]):\n",
    "    print(params, mean_score)\n",
    "\n",
    "for mean_score, params in zip(cvres[\"mean_test_score\"], cvres[\"params\"]):\n",
    "    plt.plot(params, mean_score, 'bo')"
   ]
  },
  {
   "cell_type": "markdown",
   "metadata": {},
   "source": [
    "### Min Samples Split"
   ]
  },
  {
   "cell_type": "code",
   "execution_count": 10,
   "metadata": {},
   "outputs": [
    {
     "name": "stdout",
     "output_type": "stream",
     "text": [
      "{'min_samples_split': 2} 0.390957457087\n",
      "{'min_samples_split': 4} 0.402461402813\n",
      "{'min_samples_split': 6} 0.404599456757\n",
      "{'min_samples_split': 8} 0.407799050715\n",
      "{'min_samples_split': 10} 0.416899542227\n"
     ]
    },
    {
     "data": {
      "image/png": "[encoded data removed]",
      "text/plain": [
       "<matplotlib.figure.Figure at 0x153c6701ac8>"
      ]
     },
     "metadata": {},
     "output_type": "display_data"
    }
   ],
   "source": [
    "param_grid = [\n",
    "    {'min_samples_split': [2, 4, 6, 8, 10]}\n",
    "  ]\n",
    "\n",
    "dtc = DecisionTreeClassifier()\n",
    "grid_search = GridSearchCV(dtc, param_grid,\n",
    "scoring='precision')\n",
    "grid_search.fit(credit_prepared, y_train_1)\n",
    "\n",
    "cvres = grid_search.cv_results_\n",
    "for mean_score, params in zip(cvres[\"mean_test_score\"], cvres[\"params\"]):\n",
    "    print(params, mean_score)\n",
    "    \n",
    "for mean_score, params in zip(cvres[\"mean_test_score\"], cvres[\"params\"]):\n",
    "    plt.plot(params, mean_score, 'bo')"
   ]
  },
  {
   "cell_type": "markdown",
   "metadata": {},
   "source": [
    "### Min Samples Leaf"
   ]
  },
  {
   "cell_type": "code",
   "execution_count": 11,
   "metadata": {},
   "outputs": [
    {
     "name": "stdout",
     "output_type": "stream",
     "text": [
      "{'min_samples_leaf': 1} 0.38967703097\n",
      "{'min_samples_leaf': 3} 0.417771435347\n",
      "{'min_samples_leaf': 5} 0.436786262464\n",
      "{'min_samples_leaf': 7} 0.46439510416\n",
      "{'min_samples_leaf': 10} 0.488731009473\n"
     ]
    },
    {
     "data": {
      "image/png": "[encoded data removed]",
      "text/plain": [
       "<matplotlib.figure.Figure at 0x153c6761160>"
      ]
     },
     "metadata": {},
     "output_type": "display_data"
    }
   ],
   "source": [
    "param_grid = [\n",
    "    {'min_samples_leaf': [1, 3, 5, 7, 10]}\n",
    "  ]\n",
    "\n",
    "dtc = DecisionTreeClassifier()\n",
    "grid_search = GridSearchCV(dtc, param_grid,\n",
    "scoring='precision')\n",
    "grid_search.fit(credit_prepared, y_train_1)\n",
    "\n",
    "cvres = grid_search.cv_results_\n",
    "for mean_score, params in zip(cvres[\"mean_test_score\"], cvres[\"params\"]):\n",
    "    print(params, mean_score)\n",
    "    \n",
    "for mean_score, params in zip(cvres[\"mean_test_score\"], cvres[\"params\"]):\n",
    "    plt.plot(params, mean_score, 'bo')"
   ]
  },
  {
   "cell_type": "markdown",
   "metadata": {},
   "source": [
    "### Max Leaf Nodes"
   ]
  },
  {
   "cell_type": "code",
   "execution_count": 12,
   "metadata": {},
   "outputs": [
    {
     "name": "stdout",
     "output_type": "stream",
     "text": [
      "{'max_leaf_nodes': None} 0.391880209741\n",
      "{'max_leaf_nodes': 2} 0.69239906206\n",
      "{'max_leaf_nodes': 4} 0.691329429818\n",
      "{'max_leaf_nodes': 6} 0.693907158124\n",
      "{'max_leaf_nodes': 8} 0.696252038736\n",
      "{'max_leaf_nodes': 10} 0.694172889111\n"
     ]
    },
    {
     "data": {
      "image/png": "[encoded data removed]",
      "text/plain": [
       "<matplotlib.figure.Figure at 0x153c67d3128>"
      ]
     },
     "metadata": {},
     "output_type": "display_data"
    }
   ],
   "source": [
    "param_grid = [\n",
    "    {'max_leaf_nodes': [None, 2, 4, 6, 8, 10]}\n",
    "  ]\n",
    "\n",
    "dtc = DecisionTreeClassifier()\n",
    "grid_search = GridSearchCV(dtc, param_grid,\n",
    "scoring='precision')\n",
    "grid_search.fit(credit_prepared, y_train_1)\n",
    "\n",
    "cvres = grid_search.cv_results_\n",
    "for mean_score, params in zip(cvres[\"mean_test_score\"], cvres[\"params\"]):\n",
    "    print(params, mean_score\n",
    "         )\n",
    "    \n",
    "for mean_score, params in zip(cvres[\"mean_test_score\"], cvres[\"params\"]):\n",
    "    plt.plot(params, mean_score, 'bo')   "
   ]
  },
  {
   "cell_type": "markdown",
   "metadata": {},
   "source": [
    "## Randomized Search on all Parameters at Once"
   ]
  },
  {
   "cell_type": "code",
   "execution_count": 13,
   "metadata": {},
   "outputs": [
    {
     "name": "stdout",
     "output_type": "stream",
     "text": [
      "Best Score: 0.692064876773\n",
      "Best Params: {'criterion': 'entropy', 'max_depth': 4, 'max_leaf_nodes': 8, 'min_samples_leaf': 7, 'min_samples_split': 3}\n",
      "Accuracy Score: 0.818546712803\n"
     ]
    }
   ],
   "source": [
    "from sklearn.model_selection import RandomizedSearchCV\n",
    "from scipy.stats import uniform, randint\n",
    "\n",
    "param_distribs = { 'criterion' : ['gini', 'entropy'], 'max_depth': randint(3,5),\n",
    "     'min_samples_split': randint(2, 10), 'min_samples_leaf': randint(1, 10), 'max_leaf_nodes' : randint(8, 16) \n",
    "    }\n",
    "\n",
    "rnd_search = RandomizedSearchCV(DecisionTreeClassifier(), param_distribs, scoring ='precision', n_iter=10, cv=3, n_jobs = -1)\n",
    "rnd_search.fit(credit_prepared, y_train_1)\n",
    "\n",
    "print(\"Best Score:\", rnd_search.best_score_)\n",
    "print(\"Best Params:\", rnd_search.best_params_)\n",
    "\n",
    "\n",
    "from sklearn.metrics import accuracy_score\n",
    "\n",
    "y_pred_rnd = rnd_search.predict(credit_prepared)\n",
    "\n",
    "print(\"Accuracy Score:\", accuracy_score(y_train_1, y_pred_rnd))"
   ]
  },
  {
   "cell_type": "markdown",
   "metadata": {},
   "source": [
    "## Ensemble Learning"
   ]
  },
  {
   "cell_type": "markdown",
   "metadata": {},
   "source": [
    "### Random Forest Classifier"
   ]
  },
  {
   "cell_type": "code",
   "execution_count": 14,
   "metadata": {},
   "outputs": [
    {
     "name": "stdout",
     "output_type": "stream",
     "text": [
      "RFC Best Score: 0.770525400269\n",
      "RFC Accuracy: 0.792525951557\n"
     ]
    }
   ],
   "source": [
    "from sklearn.ensemble import RandomForestClassifier\n",
    "\n",
    "param_distribs = {'n_estimators': randint(10,1000), 'max_depth': randint(1, 10), \n",
    "                  'min_samples_split': randint(2, 10), 'min_samples_leaf': randint(1,10),\n",
    "                  'max_leaf_nodes' : randint(2,10)}\n",
    "\n",
    "rnd_search_rfc = RandomizedSearchCV(RandomForestClassifier(), param_distribs, scoring ='precision', n_iter=10, cv=3, n_jobs = -1)\n",
    "rnd_search_rfc.fit(credit_prepared, y_train_1)\n",
    "\n",
    "print(\"RFC Best Score:\", rnd_search_rfc.best_score_)\n",
    "\n",
    "y_pred_rfc = rnd_search_rfc.predict(credit_prepared)\n",
    "print(\"RFC Accuracy:\", accuracy_score(y_train_1, y_pred_rfc))"
   ]
  },
  {
   "cell_type": "markdown",
   "metadata": {},
   "source": [
    "### Adaboost Tree Classifier"
   ]
  },
  {
   "cell_type": "code",
   "execution_count": 15,
   "metadata": {},
   "outputs": [
    {
     "name": "stdout",
     "output_type": "stream",
     "text": [
      "ADA Best Score: 0.696168570412\n",
      "ADA Accuracy: 0.818546712803\n"
     ]
    }
   ],
   "source": [
    "from sklearn.ensemble import AdaBoostClassifier\n",
    "param_distribs = {'learning_rate': uniform(0.0, 5.0), 'n_estimators' : randint(10,50)}\n",
    "\n",
    "rnd_search_ada = RandomizedSearchCV(AdaBoostClassifier(DecisionTreeClassifier(criterion = 'entropy', max_depth = 4, \n",
    "                max_leaf_nodes = 8, min_samples_leaf = 7, min_samples_split = 3)), \n",
    "                param_distribs, scoring ='precision', n_iter=10, cv=3, n_jobs = -1)\n",
    "rnd_search_ada.fit(credit_prepared, y_train_1)\n",
    "\n",
    "print(\"ADA Best Score:\", rnd_search_ada.best_score_)\n",
    "\n",
    "y_pred_ada = rnd_search_ada.predict(credit_prepared)\n",
    "print(\"ADA Accuracy:\", accuracy_score(y_train_1, y_pred_ada))"
   ]
  },
  {
   "cell_type": "markdown",
   "metadata": {},
   "source": [
    "### Extra Trees Classifier"
   ]
  },
  {
   "cell_type": "code",
   "execution_count": 16,
   "metadata": {},
   "outputs": [
    {
     "name": "stdout",
     "output_type": "stream",
     "text": [
      "ETC Best Score: 0.768000045085\n",
      "ETC Accuracy: 0.791418685121\n"
     ]
    }
   ],
   "source": [
    "from sklearn.ensemble import ExtraTreesClassifier\n",
    "\n",
    "param_distribs = {'n_estimators': randint(10,1000), 'max_depth': randint(1, 10), \n",
    "                  'min_samples_split': randint(2, 10), 'min_samples_leaf': randint(1,10),\n",
    "                  'max_leaf_nodes' : randint(2,10)}\n",
    "\n",
    "rnd_search_etc = RandomizedSearchCV(ExtraTreesClassifier(), param_distribs, scoring ='precision', n_iter=10, cv=3, n_jobs = -1)\n",
    "rnd_search_etc.fit(credit_prepared, y_train_1)\n",
    "\n",
    "print(\"ETC Best Score:\", rnd_search_etc.best_score_)\n",
    "\n",
    "y_pred_etc = rnd_search_etc.predict(credit_prepared)\n",
    "print(\"ETC Accuracy:\", accuracy_score(y_train_1, y_pred_etc))"
   ]
  },
  {
   "cell_type": "markdown",
   "metadata": {},
   "source": [
    "### Gradient Boosted Tree Classifier"
   ]
  },
  {
   "cell_type": "code",
   "execution_count": 17,
   "metadata": {},
   "outputs": [
    {
     "name": "stdout",
     "output_type": "stream",
     "text": [
      "GBC Best Score: 0.685394575139\n",
      "GBC Accuracy: 0.82214532872\n"
     ]
    }
   ],
   "source": [
    "from sklearn.ensemble import GradientBoostingClassifier\n",
    "\n",
    "param_distribs = {'learning_rate': uniform(0.1, 1.0), 'n_estimators' : randint(100, 500),\n",
    "                  'max_depth': randint(3, 10), 'min_samples_split': randint(2, 10), 'min_samples_leaf': randint(1,10),\n",
    "                  'max_leaf_nodes' : randint(2,10)}\n",
    "\n",
    "rnd_search_gbc = RandomizedSearchCV(GradientBoostingClassifier(), param_distribs, scoring ='precision', n_iter=10, cv=3, n_jobs = -1)\n",
    "rnd_search_gbc.fit(credit_prepared, y_train_1)\n",
    "\n",
    "print(\"GBC Best Score:\", rnd_search_gbc.best_score_)\n",
    "\n",
    "y_pred_gbc = rnd_search_gbc.predict(credit_prepared)\n",
    "print(\"GBC Accuracy:\", accuracy_score(y_train_1, y_pred_gbc))"
   ]
  },
  {
   "cell_type": "markdown",
   "metadata": {},
   "source": [
    "### Logisitic Regression"
   ]
  },
  {
   "cell_type": "code",
   "execution_count": 18,
   "metadata": {},
   "outputs": [
    {
     "name": "stdout",
     "output_type": "stream",
     "text": [
      "Logisitic Regression Best Score: 0.67932644204\n",
      "Logisitic Regression Accuracy: 0.822237600923\n"
     ]
    }
   ],
   "source": [
    "from sklearn.linear_model import LogisticRegression\n",
    "\n",
    "param_distribs = { \"penalty\" : ['l1', 'l2'], 'C': uniform(0.1, 10)}\n",
    "\n",
    "rnd_search_logr = RandomizedSearchCV(LogisticRegression(penalty= 'l1'), param_distribs, scoring ='precision', n_iter=10, cv=3, n_jobs = -1)\n",
    "rnd_search_logr.fit(credit_prepared, y_train_1)\n",
    "\n",
    "print(\"Logisitic Regression Best Score:\", rnd_search_logr.best_score_)\n",
    "      \n",
    "y_pred_logr = rnd_search_logr.predict(credit_prepared)\n",
    "print(\"Logisitic Regression Accuracy:\", accuracy_score(y_train_1, y_pred_logr))\n"
   ]
  },
  {
   "cell_type": "markdown",
   "metadata": {},
   "source": [
    "### Voting Classifier based on above (hard & soft)"
   ]
  },
  {
   "cell_type": "markdown",
   "metadata": {},
   "source": [
    "I was interested to see how these ensembles would work if I used a voting classifier. It  is not the best when the models are similar, and it should be used more when the models are different. However, I was just interested to see how it would do."
   ]
  },
  {
   "cell_type": "code",
   "execution_count": 19,
   "metadata": {
    "collapsed": true
   },
   "outputs": [],
   "source": [
    "lr = rnd_search_logr.best_estimator_ \n",
    "gbc = rnd_search_gbc.best_estimator_  \n",
    "etc = rnd_search_etc.best_estimator_\n",
    "ada = rnd_search_ada.best_estimator_\n",
    "rfc = rnd_search_rfc.best_estimator_"
   ]
  },
  {
   "cell_type": "markdown",
   "metadata": {},
   "source": [
    "##### Hard Voting"
   ]
  },
  {
   "cell_type": "code",
   "execution_count": 20,
   "metadata": {},
   "outputs": [
    {
     "name": "stdout",
     "output_type": "stream",
     "text": [
      "LogisticRegression 0.822237600923\n",
      "GradientBoostingClassifier 0.82214532872\n",
      "ExtraTreesClassifier 0.789757785467\n",
      "AdaBoostClassifier 0.818546712803\n",
      "RandomForestClassifier 0.792987312572\n",
      "VotingClassifier 0.817900807382\n"
     ]
    }
   ],
   "source": [
    "from sklearn.ensemble import VotingClassifier\n",
    "\n",
    "voting_clf = VotingClassifier(\n",
    "estimators=[('lr', lr), ('gbc', gbc), ('etc', etc), ('ada', ada), ('rfc', rfc)],\n",
    "voting='hard')\n",
    "\n",
    "voting_clf.fit(credit_prepared, y_train_1)\n",
    "\n",
    "for clf in (lr, gbc, etc, ada, rfc, voting_clf):\n",
    "    clf.fit(credit_prepared, y_train_1)\n",
    "    y_pred = clf.predict(credit_prepared)\n",
    "    print(clf.__class__.__name__, accuracy_score(y_train_1, y_pred))"
   ]
  },
  {
   "cell_type": "markdown",
   "metadata": {},
   "source": [
    "##### Soft Voting"
   ]
  },
  {
   "cell_type": "code",
   "execution_count": 21,
   "metadata": {},
   "outputs": [
    {
     "name": "stdout",
     "output_type": "stream",
     "text": [
      "LogisticRegression 0.822237600923\n",
      "GradientBoostingClassifier 0.82214532872\n",
      "ExtraTreesClassifier 0.790311418685\n",
      "AdaBoostClassifier 0.818546712803\n",
      "RandomForestClassifier 0.792572087659\n",
      "VotingClassifier 0.814901960784\n"
     ]
    }
   ],
   "source": [
    "from sklearn.ensemble import VotingClassifier\n",
    "\n",
    "voting_clf = VotingClassifier(\n",
    "estimators=[('lr', lr), ('gbc', gbc), ('etc', etc), ('ada', ada), ('rfc', rfc)],\n",
    "voting='soft')\n",
    "\n",
    "voting_clf.fit(credit_prepared, y_train_1)\n",
    "\n",
    "for clf in (lr, gbc, etc, ada, rfc, voting_clf):\n",
    "    clf.fit(credit_prepared, y_train_1)\n",
    "    y_pred = clf.predict(credit_prepared)\n",
    "    print(clf.__class__.__name__, accuracy_score(y_train_1, y_pred))"
   ]
  },
  {
   "cell_type": "markdown",
   "metadata": {},
   "source": [
    "### Conclusions\n",
    "\n",
    "The ensembles that I get the best score in order of precision are: Random Forest, Extra Trees, Gradient Boosting, Ada Booster and Logistic Regression \n",
    "\n",
    "The ensembles that I get the best accuracy in terms of predicitions are: Logisitic Regression, Gradient Boosting, Ada booster, Random Forest and Extra Trees.\n",
    "\n",
    "If I was to judge this based on precision, Random Forest would be the best model, and if I was to judge it based on accuracy of predictions, Logisitic regression would win.\n",
    "\n",
    "The hard voting pretty much the same result as the Ada booster, and logistic regression was still the strongest. The soft voting performed slightly worse."
   ]
  }
 ],
 "metadata": {
  "anaconda-cloud": {},
  "kernelspec": {
   "display_name": "Python 3",
   "language": "python",
   "name": "python3"
  },
  "language_info": {
   "codemirror_mode": {
    "name": "ipython",
    "version": 3
   },
   "file_extension": ".py",
   "mimetype": "text/x-python",
   "name": "python",
   "nbconvert_exporter": "python",
   "pygments_lexer": "ipython3",
   "version": "3.6.3"
  }
 },
 "nbformat": 4,
 "nbformat_minor": 2
}
